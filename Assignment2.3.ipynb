'''
Q. Implement a function longestWord() that takes a list of words and returns the longest one.
'''
from functools import reduce
def longestword(mylist):
    "Finds the longest word from the given list input"
    word = reduce(lambda x,y: x if(len(x)>=len(y)) else y, mylist)
    print(word)

li = ["hello","this","is","my","first","function"]
longestword(li)
